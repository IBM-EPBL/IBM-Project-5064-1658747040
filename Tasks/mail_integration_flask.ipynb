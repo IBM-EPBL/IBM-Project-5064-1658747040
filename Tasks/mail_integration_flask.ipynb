{
 "cells": [
  {
   "cell_type": "code",
   "execution_count": null,
   "metadata": {},
   "outputs": [
    {
     "ename": "",
     "evalue": "",
     "output_type": "error",
     "traceback": [
      "\u001b[1;31mThe Kernel crashed while executing code in the the current cell or a previous cell. Please review the code in the cell(s) to identify a possible cause of the failure. Click <a href='https://aka.ms/vscodeJupyterKernelCrash'>here</a> for more info. View Jupyter <a href='command:jupyter.viewOutput'>log</a> for further details."
     ]
    }
   ],
   "source": [
    "# importing libraries\n",
    "from flask import Flask\n",
    "from flask_mail import Mail, Message\n",
    "\n",
    "app = Flask(__name__)\n",
    "mail = Mail(app) # instantiate the mail class\n",
    "\n",
    "# configuration of mail\n",
    "app.config['MAIL_SERVER']='smtp.gmail.com'\n",
    "app.config['MAIL_PORT'] = 465\n",
    "app.config['MAIL_USERNAME'] = 'pnt2022tmid09738@gmail.com' \n",
    "app.config['MAIL_PASSWORD'] = 'Skilljobrecommender09738'\n",
    "app.config['MAIL_USE_TLS'] = False\n",
    "app.config['MAIL_USE_SSL'] = True\n",
    "mail = Mail(app)\n",
    "\n",
    "# message object mapped to a particular URL ‘/’\n",
    "@app.route(\"/\")\n",
    "def index():\n",
    "    msg = Message(\n",
    "\t\t\t\t'Hello',\n",
    "\t\t\t\tsender ='Mouli sankar',\n",
    "\t\t\t\trecipients = ['kamalilathasekar@gmail.com']\n",
    "\t\t\t)\n",
    "    msg.body = 'Hello Flask message sent from Flask-Mail'\n",
    "    mail.send(msg)\n",
    "    return 'Sent'\n",
    "\n",
    "if __name__ == '__main__':\n",
    "    app.run(debug = True)"
   ]
  }
 ],
 "metadata": {
  "kernelspec": {
   "display_name": "Python 3.11.0 64-bit",
   "language": "python",
   "name": "python3"
  },
  "language_info": {
   "codemirror_mode": {
    "name": "ipython",
    "version": 3
   },
   "file_extension": ".py",
   "mimetype": "text/x-python",
   "name": "python",
   "nbconvert_exporter": "python",
   "pygments_lexer": "ipython3",
   "version": "3.11.0"
  },
  "orig_nbformat": 4,
  "vscode": {
   "interpreter": {
    "hash": "b28a9bcd329fd90d957ecd97be96a1b32210b5b9e2ba9a092629f76bb538e0ab"
   }
  }
 },
 "nbformat": 4,
 "nbformat_minor": 2
}
